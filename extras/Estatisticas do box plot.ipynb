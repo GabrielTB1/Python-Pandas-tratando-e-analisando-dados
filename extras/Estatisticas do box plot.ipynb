{
 "cells": [
  {
   "cell_type": "code",
   "execution_count": 2,
   "id": "77015b7e",
   "metadata": {},
   "outputs": [],
   "source": [
    "%matplotlib inline\n",
    "import pandas as pd\n",
    "import matplotlib.pyplot as plt\n",
    "plt.rc('figure', figsize = (14,6))"
   ]
  },
  {
   "cell_type": "code",
   "execution_count": 3,
   "id": "b181cae5",
   "metadata": {},
   "outputs": [],
   "source": [
    "dados = pd.read_csv('dados/aluguel_amostra.csv', sep = ';')"
   ]
  },
  {
   "cell_type": "code",
   "execution_count": 17,
   "id": "56ca973e",
   "metadata": {},
   "outputs": [
    {
     "name": "stdout",
     "output_type": "stream",
     "text": [
      "[Q1] -> 21.25 \n",
      "[Q3] -> 42.31 \n",
      "[IIQ] -> 21.06\n",
      " limite inferior -> -10.34\n",
      " limite superior -> 73.9\n"
     ]
    }
   ],
   "source": [
    "Q1 = dados['Valor m2'].quantile(.25)\n",
    "Q3 = dados['Valor m2'].quantile(.75)\n",
    "IIQ = Q3 - Q1\n",
    "limite_inferior = Q1 - 1.5 * IIQ\n",
    "limite_superior = Q3 + 1.5 * IIQ\n",
    "\n",
    "print('[Q1] -> {} \\n[Q3] -> {}\\n[IIQ] -> {}\\n limite inferior -> {}\\n limite superior -> {}'.format(Q1.round(2), Q3.round(2), IIQ.round(2),limite_inferior.round(2), limite_superior.round(2)))"
   ]
  }
 ],
 "metadata": {
  "kernelspec": {
   "display_name": "Python 3 (ipykernel)",
   "language": "python",
   "name": "python3"
  },
  "language_info": {
   "codemirror_mode": {
    "name": "ipython",
    "version": 3
   },
   "file_extension": ".py",
   "mimetype": "text/x-python",
   "name": "python",
   "nbconvert_exporter": "python",
   "pygments_lexer": "ipython3",
   "version": "3.9.13"
  }
 },
 "nbformat": 4,
 "nbformat_minor": 5
}
