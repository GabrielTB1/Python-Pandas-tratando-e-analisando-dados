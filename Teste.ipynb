{
 "cells": [
  {
   "cell_type": "code",
   "execution_count": 1,
   "id": "3b489a0b",
   "metadata": {},
   "outputs": [
    {
     "data": {
      "text/plain": [
       "2"
      ]
     },
     "execution_count": 1,
     "metadata": {},
     "output_type": "execute_result"
    }
   ],
   "source": [
    "1 + 1"
   ]
  },
  {
   "cell_type": "code",
   "execution_count": 2,
   "id": "52988b32",
   "metadata": {},
   "outputs": [
    {
     "name": "stdout",
     "output_type": "stream",
     "text": [
      "0\n",
      "1\n",
      "2\n",
      "3\n",
      "4\n",
      "5\n",
      "6\n",
      "7\n",
      "8\n",
      "9\n"
     ]
    }
   ],
   "source": [
    "for i in range(10):\n",
    "    print(i)"
   ]
  },
  {
   "cell_type": "code",
   "execution_count": 3,
   "id": "c3e8019e",
   "metadata": {},
   "outputs": [
    {
     "name": "stdout",
     "output_type": "stream",
     "text": [
      " O volume na unidade C não tem nome.\n",
      " O Número de Série do Volume é E46F-EF96\n",
      "\n",
      " Pasta de C:\\Users\\gabriel.terres\\Anaconda3\n",
      "\n",
      "06/12/2022  09:47    <DIR>          .\n",
      "06/12/2022  09:47    <DIR>          ..\n",
      "06/12/2022  09:47    <DIR>          .ipynb_checkpoints\n",
      "06/12/2022  08:41                 0 .nonadmin\n",
      "20/04/2018  02:28            19.208 api-ms-win-core-console-l1-1-0.dll\n",
      "20/04/2018  02:28            18.696 api-ms-win-core-datetime-l1-1-0.dll\n",
      "20/04/2018  02:28            18.696 api-ms-win-core-debug-l1-1-0.dll\n",
      "20/04/2018  02:28            18.696 api-ms-win-core-errorhandling-l1-1-0.dll\n",
      "20/04/2018  02:29            22.280 api-ms-win-core-file-l1-1-0.dll\n",
      "20/04/2018  02:37            18.696 api-ms-win-core-file-l1-2-0.dll\n",
      "20/04/2018  02:37            18.696 api-ms-win-core-file-l2-1-0.dll\n",
      "20/04/2018  02:37            18.696 api-ms-win-core-handle-l1-1-0.dll\n",
      "20/04/2018  02:37            19.208 api-ms-win-core-heap-l1-1-0.dll\n",
      "20/04/2018  02:37            18.696 api-ms-win-core-interlocked-l1-1-0.dll\n",
      "20/04/2018  02:37            19.720 api-ms-win-core-libraryloader-l1-1-0.dll\n",
      "20/04/2018  02:37            21.256 api-ms-win-core-localization-l1-2-0.dll\n",
      "20/04/2018  02:37            19.208 api-ms-win-core-memory-l1-1-0.dll\n",
      "20/04/2018  02:37            18.696 api-ms-win-core-namedpipe-l1-1-0.dll\n",
      "20/04/2018  02:37            19.720 api-ms-win-core-processenvironment-l1-1-0.dll\n",
      "20/04/2018  02:37            20.744 api-ms-win-core-processthreads-l1-1-0.dll\n",
      "20/04/2018  02:37            19.208 api-ms-win-core-processthreads-l1-1-1.dll\n",
      "20/04/2018  02:37            18.184 api-ms-win-core-profile-l1-1-0.dll\n",
      "20/04/2018  02:37            19.208 api-ms-win-core-rtlsupport-l1-1-0.dll\n",
      "20/04/2018  02:37            18.696 api-ms-win-core-string-l1-1-0.dll\n",
      "20/04/2018  02:37            20.744 api-ms-win-core-synch-l1-1-0.dll\n",
      "20/04/2018  02:37            19.208 api-ms-win-core-synch-l1-2-0.dll\n",
      "20/04/2018  02:37            19.720 api-ms-win-core-sysinfo-l1-1-0.dll\n",
      "20/04/2018  02:37            19.208 api-ms-win-core-timezone-l1-1-0.dll\n",
      "20/04/2018  02:37            18.696 api-ms-win-core-util-l1-1-0.dll\n",
      "20/04/2018  02:37            19.720 api-ms-win-crt-conio-l1-1-0.dll\n",
      "20/04/2018  02:37            22.792 api-ms-win-crt-convert-l1-1-0.dll\n",
      "20/04/2018  02:37            19.208 api-ms-win-crt-environment-l1-1-0.dll\n",
      "20/04/2018  02:37            20.744 api-ms-win-crt-filesystem-l1-1-0.dll\n",
      "20/04/2018  02:37            19.720 api-ms-win-crt-heap-l1-1-0.dll\n",
      "20/04/2018  02:37            19.208 api-ms-win-crt-locale-l1-1-0.dll\n",
      "20/04/2018  02:37            27.912 api-ms-win-crt-math-l1-1-0.dll\n",
      "20/04/2018  02:37            26.888 api-ms-win-crt-multibyte-l1-1-0.dll\n",
      "20/04/2018  02:37            71.432 api-ms-win-crt-private-l1-1-0.dll\n",
      "20/04/2018  02:37            19.720 api-ms-win-crt-process-l1-1-0.dll\n",
      "20/04/2018  02:37            23.304 api-ms-win-crt-runtime-l1-1-0.dll\n",
      "20/04/2018  02:37            24.840 api-ms-win-crt-stdio-l1-1-0.dll\n",
      "20/04/2018  02:37            24.840 api-ms-win-crt-string-l1-1-0.dll\n",
      "20/04/2018  02:37            21.256 api-ms-win-crt-time-l1-1-0.dll\n",
      "20/04/2018  02:37            19.208 api-ms-win-crt-utility-l1-1-0.dll\n",
      "08/09/2020  07:10           317.224 concrt140.dll\n",
      "06/12/2022  08:41    <DIR>          conda-meta\n",
      "06/12/2022  08:41    <DIR>          condabin\n",
      "17/08/2022  12:00             1.063 cwp.py\n",
      "06/12/2022  08:30    <DIR>          DLLs\n",
      "06/12/2022  09:47    <DIR>          envs\n",
      "06/12/2022  08:32    <DIR>          etc\n",
      "06/12/2022  08:31    <DIR>          include\n",
      "06/12/2022  08:30    <DIR>          Lib\n",
      "06/12/2022  08:30    <DIR>          Library\n",
      "06/12/2022  08:30    <DIR>          libs\n",
      "17/05/2022  08:12            13.931 LICENSE_PYTHON.txt\n",
      "06/12/2022  08:32    <DIR>          man\n",
      "06/12/2022  08:41    <DIR>          Menu\n",
      "08/09/2020  07:10           590.632 msvcp140.dll\n",
      "08/09/2020  07:10            31.528 msvcp140_1.dll\n",
      "08/09/2020  07:10           193.832 msvcp140_2.dll\n",
      "08/09/2020  07:10            27.936 msvcp140_codecvt_ids.dll\n",
      "06/12/2022  09:48    <DIR>          pkgs\n",
      "06/12/2022  09:20    <DIR>          Projetos\n",
      "03/08/2022  05:09            13.127 pyodbc.pyi\n",
      "25/08/2022  21:23            95.232 python.exe\n",
      "25/08/2022  21:23           471.040 python.pdb\n",
      "25/08/2022  21:21            52.224 python3.dll\n",
      "25/08/2022  21:21         4.494.848 python39.dll\n",
      "25/08/2022  21:21        13.774.848 python39.pdb\n",
      "25/08/2022  20:54            93.696 pythonw.exe\n",
      "25/08/2022  20:54           454.656 pythonw.pdb\n",
      "06/12/2022  08:33               291 qt.conf\n",
      "06/12/2022  08:41    <DIR>          Scripts\n",
      "06/12/2022  08:32    <DIR>          share\n",
      "06/12/2022  08:32    <DIR>          shell\n",
      "06/12/2022  08:31    <DIR>          sip\n",
      "06/12/2022  08:30    <DIR>          tcl\n",
      "06/12/2022  08:30    <DIR>          Tools\n",
      "20/04/2018  02:37         1.016.584 ucrtbase.dll\n",
      "06/12/2022  08:33           322.372 Uninstall-Anaconda3.exe\n",
      "06/12/2022  09:47                72 Untitled.ipynb\n",
      "08/09/2020  07:10           337.696 vccorlib140.dll\n",
      "08/09/2020  07:10           184.616 vcomp140.dll\n",
      "08/09/2020  07:10           101.672 vcruntime140.dll\n",
      "08/09/2020  07:10            44.328 vcruntime140_1.dll\n",
      "25/08/2022  20:53           524.800 venvlauncher.exe\n",
      "25/08/2022  20:53           524.288 venvwlauncher.exe\n",
      "04/10/2022  22:23           313.040 xlwings32-0.27.15.dll\n",
      "04/10/2022  22:23           390.352 xlwings64-0.27.15.dll\n",
      "08/09/2022  15:39            87.552 zlib.dll\n",
      "06/10/2022  14:42        19.894.133 _conda.exe\n",
      "              70 arquivo(s)     45.232.189 bytes\n",
      "              22 pasta(s)   307.997.097.984 bytes disponíveis\n"
     ]
    }
   ],
   "source": [
    "!dir"
   ]
  },
  {
   "cell_type": "code",
   "execution_count": null,
   "id": "8fcd7d5b",
   "metadata": {},
   "outputs": [],
   "source": []
  }
 ],
 "metadata": {
  "kernelspec": {
   "display_name": "Python 3 (ipykernel)",
   "language": "python",
   "name": "python3"
  },
  "language_info": {
   "codemirror_mode": {
    "name": "ipython",
    "version": 3
   },
   "file_extension": ".py",
   "mimetype": "text/x-python",
   "name": "python",
   "nbconvert_exporter": "python",
   "pygments_lexer": "ipython3",
   "version": "3.9.13"
  }
 },
 "nbformat": 4,
 "nbformat_minor": 5
}
