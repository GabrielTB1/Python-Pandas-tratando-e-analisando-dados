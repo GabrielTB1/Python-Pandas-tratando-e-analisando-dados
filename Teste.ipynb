{
 "cells": [
  {
   "cell_type": "code",
   "execution_count": 14,
   "id": "3b489a0b",
   "metadata": {},
   "outputs": [
    {
     "data": {
      "text/plain": [
       "2"
      ]
     },
     "execution_count": 14,
     "metadata": {},
     "output_type": "execute_result"
    }
   ],
   "source": [
    "1 + 1"
   ]
  },
  {
   "cell_type": "code",
   "execution_count": 15,
   "id": "52988b32",
   "metadata": {},
   "outputs": [
    {
     "name": "stdout",
     "output_type": "stream",
     "text": [
      "0\n",
      "1\n",
      "2\n",
      "3\n",
      "4\n",
      "5\n",
      "6\n",
      "7\n",
      "8\n",
      "9\n"
     ]
    }
   ],
   "source": [
    "for i in range(10):\n",
    "    print(i)"
   ]
  },
  {
   "cell_type": "code",
   "execution_count": 16,
   "id": "c3e8019e",
   "metadata": {},
   "outputs": [
    {
     "name": "stdout",
     "output_type": "stream",
     "text": [
      " O volume na unidade C não tem nome.\n",
      " O Número de Série do Volume é E46F-EF96\n",
      "\n",
      " Pasta de C:\\Users\\gabriel.terres\\Anaconda3\\Projetos\\Python_Pandas_tratando_e_analisando_dados\n",
      "\n",
      "09/12/2022  10:23    <DIR>          .\n",
      "09/12/2022  10:23    <DIR>          ..\n",
      "09/12/2022  09:04    <DIR>          .ipynb_checkpoints\n",
      "06/12/2022  12:27            28.548 Base de Dados.ipynb\n",
      "08/12/2022  16:25    <DIR>          dados\n",
      "09/12/2022  10:09    <DIR>          extras\n",
      "08/12/2022  16:28            47.577 Imoveis Residenciais.ipynb\n",
      "09/12/2022  08:39            10.647 Selecoes e Frequencias.ipynb\n",
      "09/12/2022  10:23            25.482 Teste.ipynb\n",
      "07/12/2022  09:31            30.457 Tipos de Imoveis.ipynb\n",
      "09/12/2022  09:59            28.598 Tratamento de Dados Faltantes.ipynb\n",
      "               6 arquivo(s)        171.309 bytes\n",
      "               5 pasta(s)   304.337.543.168 bytes disponíveis\n"
     ]
    }
   ],
   "source": [
    "!dir"
   ]
  }
 ],
 "metadata": {
  "kernelspec": {
   "display_name": "Python 3 (ipykernel)",
   "language": "python",
   "name": "python3"
  },
  "language_info": {
   "codemirror_mode": {
    "name": "ipython",
    "version": 3
   },
   "file_extension": ".py",
   "mimetype": "text/x-python",
   "name": "python",
   "nbconvert_exporter": "python",
   "pygments_lexer": "ipython3",
   "version": "3.9.13"
  }
 },
 "nbformat": 4,
 "nbformat_minor": 5
}
